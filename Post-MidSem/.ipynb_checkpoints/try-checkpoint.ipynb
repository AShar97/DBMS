{
 "cells": [
  {
   "cell_type": "code",
   "execution_count": 1,
   "metadata": {},
   "outputs": [],
   "source": [
    "import json\n",
    "import os"
   ]
  },
  {
   "cell_type": "code",
   "execution_count": 2,
   "metadata": {},
   "outputs": [
    {
     "data": {
      "text/plain": [
       "['2017-12-08.json',\n",
       " '2018-02-22.json',\n",
       " '2018-01-24.json',\n",
       " '2018-01-08.json',\n",
       " '2018-02-18.json',\n",
       " '2017-12-24.json',\n",
       " '2017-12-04.json',\n",
       " '2018-03-03.json',\n",
       " '2018-03-15.json',\n",
       " '2018-01-28.json',\n",
       " '2017-12-12.json',\n",
       " '2018-02-14.json',\n",
       " '2018-01-04.json',\n",
       " '2017-12-28.json',\n",
       " '2018-02-02.json',\n",
       " '2018-01-12.json',\n",
       " '2018-01-13.json',\n",
       " '2018-02-03.json',\n",
       " '2017-12-29.json',\n",
       " '2018-01-05.json',\n",
       " '2018-02-15.json',\n",
       " '2017-12-13.json',\n",
       " '2018-01-29.json',\n",
       " '2018-03-14.json',\n",
       " '2018-03-02.json',\n",
       " '2017-12-05.json',\n",
       " '2017-12-25.json',\n",
       " '2018-02-19.json',\n",
       " '2018-01-09.json',\n",
       " '2018-03-18.json',\n",
       " '2018-01-25.json',\n",
       " '2018-02-23.json',\n",
       " '2017-12-09.json',\n",
       " '2017-12-02.json',\n",
       " '2018-02-28.json',\n",
       " '2018-03-05.json',\n",
       " '2018-03-13.json',\n",
       " '2017-12-14.json',\n",
       " '2018-02-12.json',\n",
       " '2018-01-02.json',\n",
       " '2017-11-28.json',\n",
       " '2018-02-04.json',\n",
       " '2018-01-14.json',\n",
       " '2018-03-09.json',\n",
       " '2018-02-24.json',\n",
       " '2018-01-22.json',\n",
       " '2017-12-18.json',\n",
       " '2017-12-22.json',\n",
       " '2018-01-18.json',\n",
       " '2018-02-08.json',\n",
       " '2018-02-09.json',\n",
       " '2018-01-19.json',\n",
       " '2017-12-23.json',\n",
       " '2017-12-19.json',\n",
       " '2018-01-23.json',\n",
       " '2018-02-25.json',\n",
       " '2018-03-08.json',\n",
       " '2018-01-15.json',\n",
       " '2018-02-05.json',\n",
       " '2017-11-29.json',\n",
       " '2018-01-03.json',\n",
       " '2018-02-13.json',\n",
       " '2017-12-15.json',\n",
       " '2018-03-12.json',\n",
       " '2018-03-04.json',\n",
       " '2017-12-03.json',\n",
       " '2018-01-16.json',\n",
       " '2018-02-06.json',\n",
       " '2018-02-10.json',\n",
       " '2017-12-16.json',\n",
       " '2018-03-11.json',\n",
       " '2018-03-07.json',\n",
       " '2017-12-20.json',\n",
       " '2017-11-30.json',\n",
       " '2017-11-26.json',\n",
       " '2018-01-20.json',\n",
       " '2018-02-26.json',\n",
       " '2018-02-27.json',\n",
       " '2018-01-21.json',\n",
       " '2017-11-27.json',\n",
       " '2017-12-21.json',\n",
       " '2017-12-01.json',\n",
       " '2018-03-06.json',\n",
       " '2018-03-10.json',\n",
       " '2017-12-17.json',\n",
       " '2018-02-11.json',\n",
       " '2018-01-01.json',\n",
       " '2018-02-07.json',\n",
       " '2018-01-17.json',\n",
       " '2017-12-26.json',\n",
       " '2017-12-30.json',\n",
       " '2018-01-26.json',\n",
       " '2018-02-20.json',\n",
       " '2018-01-30.json',\n",
       " '2018-01-10.json',\n",
       " '2018-01-06.json',\n",
       " '2018-02-16.json',\n",
       " '2017-12-10.json',\n",
       " '2018-03-17.json',\n",
       " '2018-03-01.json',\n",
       " '2017-12-06.json',\n",
       " '2017-12-07.json',\n",
       " '2018-03-16.json',\n",
       " '2017-12-11.json',\n",
       " '2018-02-17.json',\n",
       " '2018-01-07.json',\n",
       " '2018-02-01.json',\n",
       " '2018-01-11.json',\n",
       " '2018-01-31.json',\n",
       " '2018-02-21.json',\n",
       " '2018-01-27.json',\n",
       " '2017-12-31.json',\n",
       " '2017-12-27.json']"
      ]
     },
     "execution_count": 2,
     "metadata": {},
     "output_type": "execute_result"
    }
   ],
   "source": [
    "os.listdir(\"./workshop_dataset1\")"
   ]
  },
  {
   "cell_type": "code",
   "execution_count": 9,
   "metadata": {},
   "outputs": [
    {
     "data": {
      "text/plain": [
       "'2018-02-22'"
      ]
     },
     "execution_count": 9,
     "metadata": {},
     "output_type": "execute_result"
    }
   ],
   "source": [
    "os.listdir(\"./workshop_dataset1\")[1][:-5]"
   ]
  },
  {
   "cell_type": "code",
   "execution_count": null,
   "metadata": {},
   "outputs": [],
   "source": [
    "# total = 0\n",
    "# data = []\n",
    "data = {}\n",
    "dirname = \"./workshop_dataset1\"\n",
    "for filename in os.listdir(dirname):\n",
    "    with open(dirname+'/'+filename) as f:\n",
    "        # data.append(json.load(f))\n",
    "        # temp = json.load(f)\n",
    "        # data.update(temp)\n",
    "        \n",
    "        # total += len(temp)\n",
    "        \n",
    "        data.update(json.load(f))"
   ]
  },
  {
   "cell_type": "code",
   "execution_count": null,
   "metadata": {},
   "outputs": [],
   "source": [
    "# len(data) == total"
   ]
  },
  {
   "cell_type": "code",
   "execution_count": null,
   "metadata": {},
   "outputs": [],
   "source": [
    "data\n",
    "# data['939282501129748486']"
   ]
  },
  {
   "cell_type": "code",
   "execution_count": 10,
   "metadata": {},
   "outputs": [
    {
     "name": "stdout",
     "output_type": "stream",
     "text": [
      "1\n"
     ]
    }
   ],
   "source": [
    "# i = 0\n",
    "# i+=1;print(i)"
   ]
  },
  {
   "cell_type": "code",
   "execution_count": null,
   "metadata": {},
   "outputs": [],
   "source": []
  }
 ],
 "metadata": {
  "kernelspec": {
   "display_name": "Python 3",
   "language": "python",
   "name": "python3"
  },
  "language_info": {
   "codemirror_mode": {
    "name": "ipython",
    "version": 3
   },
   "file_extension": ".py",
   "mimetype": "text/x-python",
   "name": "python",
   "nbconvert_exporter": "python",
   "pygments_lexer": "ipython3",
   "version": "3.6.4"
  }
 },
 "nbformat": 4,
 "nbformat_minor": 2
}
